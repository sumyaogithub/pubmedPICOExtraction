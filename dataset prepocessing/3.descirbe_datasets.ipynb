{
 "cells": [
  {
   "cell_type": "code",
   "execution_count": 14,
   "metadata": {},
   "outputs": [
    {
     "name": "stdout",
     "output_type": "stream",
     "text": [
      "Samples: 181\n",
      "Average number of sentences per sample: 24.07182320441989\n",
      "Average word count per label field:\n",
      "  participants: 16.613259668508288\n",
      "  interventions: 18.917127071823206\n",
      "  outcomes: 27.552486187845304\n"
     ]
    }
   ],
   "source": [
    "import json\n",
    "import re\n",
    "\n",
    "# 读取数据\n",
    "with open('/local/home/sumyao/YSforGIT/dataset/Filtered2Added/ebm_nct_filtered_added.json', 'r') as file:\n",
    "    data = json.load(file)\n",
    "\n",
    "# 统计 Samples\n",
    "samples = len(data)\n",
    "\n",
    "# 计算 Sentences\n",
    "total_sentences = 0\n",
    "for record in data:\n",
    "    content = record['content']\n",
    "    sentences = re.split(r'[.!?]', content)  # 基于句号、问号、感叹号进行句子分割\n",
    "    total_sentences += len(sentences)\n",
    "\n",
    "avg_sentences = total_sentences / samples  # 平均句子数\n",
    "\n",
    "# 计算 Labels 的平均单词数\n",
    "#label_keys = ['participants', 'interventions', 'comparator', 'outcomes']\n",
    "label_keys = ['participants', 'interventions',  'outcomes']\n",
    "label_word_counts = {key: [] for key in label_keys}\n",
    "\n",
    "for record in data:\n",
    "    labels = record['label']\n",
    "    for key in label_keys:\n",
    "        text = labels[key]\n",
    "        word_count = len(text.split())  # 计算单词数\n",
    "        label_word_counts[key].append(word_count)\n",
    "\n",
    "avg_label_word_counts = {key: sum(word_counts) / len(word_counts) for key, word_counts in label_word_counts.items()}\n",
    "\n",
    "# 输出结果\n",
    "print(f\"Samples: {samples}\")\n",
    "print(f\"Average number of sentences per sample: {avg_sentences}\")\n",
    "print(\"Average word count per label field:\")\n",
    "for key, avg_word_count in avg_label_word_counts.items():\n",
    "    print(f\"  {key}: {avg_word_count}\")\n"
   ]
  },
  {
   "cell_type": "code",
   "execution_count": 15,
   "metadata": {},
   "outputs": [
    {
     "name": "stdout",
     "output_type": "stream",
     "text": [
      "Samples: 96\n",
      "Average number of sentences per sample: 8.125\n",
      "Average word count per label field:\n",
      "  participants: 25.854166666666668\n",
      "  interventions: 10.291666666666666\n",
      "  comparator: 2.7708333333333335\n",
      "  outcomes: 18.895833333333332\n"
     ]
    }
   ],
   "source": [
    "import json\n",
    "import re\n",
    "\n",
    "# 读取数据\n",
    "with open('/local/home/sumyao/YSforGIT/dataset/Filtered2Added/sectionspecific_nct_filtered_added.json', 'r') as file:\n",
    "    data = json.load(file)\n",
    "\n",
    "# 统计 Samples\n",
    "samples = len(data)\n",
    "\n",
    "# 计算 Sentences\n",
    "total_sentences = 0\n",
    "for record in data:\n",
    "    content = record['content']\n",
    "    sentences = re.split(r'[.!?]', content)  # 基于句号、问号、感叹号进行句子分割\n",
    "    total_sentences += len(sentences)\n",
    "\n",
    "avg_sentences = total_sentences / samples  # 平均句子数\n",
    "\n",
    "# 计算 Labels 的平均单词数\n",
    "label_keys = ['participants', 'interventions', 'comparator', 'outcomes']\n",
    "#label_keys = ['participants', 'interventions',  'outcomes']\n",
    "label_word_counts = {key: [] for key in label_keys}\n",
    "\n",
    "for record in data:\n",
    "    labels = record['labels']\n",
    "    for key in label_keys:\n",
    "        text = labels[key]\n",
    "        word_count = len(text.split())  # 计算单词数\n",
    "        label_word_counts[key].append(word_count)\n",
    "\n",
    "avg_label_word_counts = {key: sum(word_counts) / len(word_counts) for key, word_counts in label_word_counts.items()}\n",
    "\n",
    "# 输出结果\n",
    "print(f\"Samples: {samples}\")\n",
    "print(f\"Average number of sentences per sample: {avg_sentences}\")\n",
    "print(\"Average word count per label field:\")\n",
    "for key, avg_word_count in avg_label_word_counts.items():\n",
    "    print(f\"  {key}: {avg_word_count}\")\n"
   ]
  },
  {
   "cell_type": "code",
   "execution_count": 12,
   "metadata": {},
   "outputs": [
    {
     "name": "stdout",
     "output_type": "stream",
     "text": [
      "Samples: 160\n",
      "Average number of sentences per sample: 25.74\n",
      "Average word count per label field:\n",
      "  participants: 16.19\n",
      "  intervention: 2.94\n",
      "  control: 1.99\n",
      "  outcomes: 29.60\n"
     ]
    }
   ],
   "source": [
    "import json\n",
    "import re\n",
    "\n",
    "# 假设读取数据\n",
    "with open('/local/home/sumyao/YSforGIT/dataset/Filtered2Added/picocorpus_nct_filtered_added.json', 'r') as file:\n",
    "    data = json.load(file)\n",
    "\n",
    "# 统计 Samples 数量\n",
    "samples = len(data)\n",
    "\n",
    "# 计算 Sentences 数量\n",
    "total_sentences = 0\n",
    "for record in data:\n",
    "    content = record['content']\n",
    "    # 基于句号、问号、感叹号分割句子\n",
    "    sentences = re.split(r'[.!?]', content)\n",
    "    total_sentences += len([s for s in sentences if s.strip()])  # 去掉空句子\n",
    "\n",
    "# 计算平均句子数\n",
    "avg_sentences = total_sentences / samples\n",
    "\n",
    "# 计算 Labels 字段的平均单词数\n",
    "label_keys = ['participants', 'intervention', 'control', 'outcomes']\n",
    "label_word_counts = {key: [] for key in label_keys}\n",
    "\n",
    "for record in data:\n",
    "    labels = record['label']\n",
    "    for key in label_keys:\n",
    "        text = labels.get(key, \"\")  # 如果字段不存在，返回空字符串\n",
    "        if isinstance(text, list):  # 如果是列表，处理每个元素\n",
    "            word_count = sum(len(t.split()) for t in text)\n",
    "        else:  # 否则单个字符串\n",
    "            word_count = len(text.split())\n",
    "        \n",
    "        label_word_counts[key].append(word_count)\n",
    "\n",
    "# 计算每个标签字段的平均单词数\n",
    "avg_label_word_counts = {key: sum(word_counts) / len(word_counts) if word_counts else 0 \n",
    "                         for key, word_counts in label_word_counts.items()}\n",
    "\n",
    "# 输出结果\n",
    "print(f\"Samples: {samples}\")\n",
    "print(f\"Average number of sentences per sample: {avg_sentences:.2f}\")\n",
    "print(\"Average word count per label field:\")\n",
    "for key, avg_word_count in avg_label_word_counts.items():\n",
    "    print(f\"  {key}: {avg_word_count:.2f}\")\n"
   ]
  },
  {
   "cell_type": "code",
   "execution_count": null,
   "metadata": {},
   "outputs": [],
   "source": []
  }
 ],
 "metadata": {
  "kernelspec": {
   "display_name": "openai",
   "language": "python",
   "name": "openai"
  },
  "language_info": {
   "codemirror_mode": {
    "name": "ipython",
    "version": 3
   },
   "file_extension": ".py",
   "mimetype": "text/x-python",
   "name": "python",
   "nbconvert_exporter": "python",
   "pygments_lexer": "ipython3",
   "version": "3.12.4"
  }
 },
 "nbformat": 4,
 "nbformat_minor": 2
}
