{
 "cells": [
  {
   "cell_type": "markdown",
   "metadata": {},
   "source": [
    "## 筛选含有nct的数据集"
   ]
  },
  {
   "cell_type": "code",
   "execution_count": 4,
   "metadata": {},
   "outputs": [
    {
     "name": "stdout",
     "output_type": "stream",
     "text": [
      "含有NCT number的记录数量: 183\n",
      "含有NCT number的记录数量: 160\n",
      "含有NCT number的记录数量: 97\n"
     ]
    }
   ],
   "source": [
    "import json\n",
    "import re\n",
    "\n",
    "def filter_records_by_nct(filename,output_filename):\n",
    "    nct_pattern = re.compile(r\"NCT\\d{8}\")\n",
    "\n",
    "    with open(filename, 'r', encoding='utf-8') as f:\n",
    "        data = json.load(f)\n",
    "\n",
    "    filtered_records = []\n",
    "    nct_numbers=[]\n",
    "    for record in data:\n",
    "        nct_number = None\n",
    "        if 'abstract' in record:\n",
    "            match = nct_pattern.search(record['abstract'])\n",
    "            if match:\n",
    "                nct_number = match.group()\n",
    "                nct_numbers.append(nct_number)\n",
    "        elif 'content' in record:\n",
    "            match = nct_pattern.search(record['content'])\n",
    "            if match:\n",
    "                nct_number = match.group()\n",
    "                nct_numbers.append(nct_number)\n",
    "        if nct_number:\n",
    "            filtered_records.append(record)\n",
    "    #print(nct_numbers)\n",
    "    with open(output_filename, 'w', encoding='utf-8') as f:\n",
    "        json.dump(filtered_records, f, ensure_ascii=False, indent=4)\n",
    "    print(\"含有NCT number的记录数量:\", len(filtered_records))\n",
    "\n",
    "    \n",
    "filter_records_by_nct('/local/home/sumyao/YSforGIT/dataset/BIO2json/ebm_3.PIOformatchanged_contentLabel.json',\n",
    "                        '/local/home/sumyao/YSforGIT/dataset/Json2Filtered/ebm_nct_filtered.json')\n",
    "filter_records_by_nct('/local/home/sumyao/YSforGIT/dataset/BIO2json/picocorpus_1formatransfered_contentlabel.json',\n",
    "                        '/local/home/sumyao/YSforGIT/dataset/Json2Filtered/picocorpus_nct_filtered.json')\n",
    "filter_records_by_nct('/local/home/sumyao/YSforGIT/dataset/BIO2json/sectionspecific_5.NCTfilterd_98absPICOpmidAbsTitle.json',\n",
    "                        '/local/home/sumyao/YSforGIT/dataset/Json2Filtered/sectionspecific_nct_filtered.json')   "
   ]
  },
  {
   "cell_type": "markdown",
   "metadata": {},
   "source": [
    "## 检索clinical内容并保存"
   ]
  },
  {
   "cell_type": "code",
   "execution_count": 5,
   "metadata": {},
   "outputs": [
    {
     "name": "stdout",
     "output_type": "stream",
     "text": [
      "495377\n"
     ]
    },
    {
     "data": {
      "text/plain": [
       "{'age': '',\n",
       " 'gender': 'ALL',\n",
       " 'conditions': 'Leukemia',\n",
       " 'interventions': 'BIOLOGICAL: sargramostim',\n",
       " 'primary outcome measures': 'Cytogenetic response (complete and partial)',\n",
       " 'secondary outcome measures': 'Toxicity as assessed by the Expanded Common Toxicity Criteria v2.0|Time to progression|Survival'}"
      ]
     },
     "execution_count": 5,
     "metadata": {},
     "output_type": "execute_result"
    }
   ],
   "source": [
    "import sys,csv\n",
    "csv.field_size_limit(sys.maxsize)\n",
    "\n",
    "def check_clinicaltrials_colnames(csv_file_path):\n",
    "    with open(csv_file_path, 'r') as csv_file:\n",
    "        csv_reader = csv.DictReader(csv_file)\n",
    "        column_names = csv_reader.fieldnames\n",
    "    return column_names  \n",
    "\n",
    "def load_clinicaltrials():\n",
    "    csv_file_path = '/local/home/sumyao/ysmpubmed/DATASET/clinicaltrials.csv'\n",
    "    nct_data = {}\n",
    "    nct_numbers = []\n",
    "\n",
    "    with open(csv_file_path, 'r') as csv_file:\n",
    "        csv_reader = csv.DictReader(csv_file)\n",
    "        for row in csv_reader:\n",
    "            nct_id = row['NCT Number']  # Assuming \"NCT Number\" is the column name\n",
    "            \"\"\"汇总nct内容\n",
    "            nct_data[nct_id] = {\n",
    "                \"participants\": [row.get(\"age\", \"\"),row.get(\"Sex\", \"\"),row.get(\"Conditions\", \"\")],\n",
    "                \"sentence\": row.get(\"sentence\", \"\"),\n",
    "                \"outcomes\": [row.get(\"Primary Outcome Measures\", \"\") , row.get(\"Secondary Outcome Measures\", \"\")]\n",
    "            }\"\"\"\n",
    "            nct_data[nct_id] = {\n",
    "                \"age\": row.get(\"age\", \"\"),\n",
    "                \"gender\": row.get(\"Sex\", \"\"),\n",
    "                \"conditions\":row.get(\"Conditions\", \"\"),\n",
    "                \"interventions\": row.get(\"Interventions\", \"\"),\n",
    "                \"primary outcome measures\": row.get(\"Primary Outcome Measures\", \"\") , \n",
    "                \"secondary outcome measures\":row.get(\"Secondary Outcome Measures\", \"\")}\n",
    "            nct_numbers.append(nct_id)\n",
    "        return nct_data, nct_numbers\n",
    "\n",
    "## 调用\n",
    "nct_data,nct_numbers=load_clinicaltrials()\n",
    "print(len(nct_data))\n",
    "len(nct_numbers)\n",
    "nct_numbers[0]\n",
    "nct_data['NCT00072579']"
   ]
  },
  {
   "cell_type": "code",
   "execution_count": 6,
   "metadata": {},
   "outputs": [
    {
     "name": "stdout",
     "output_type": "stream",
     "text": [
      "/local/home/sumyao/YSforGIT/dataset/Filtered2Added/ebm_nct_filtered_added_withnocluster.json\n",
      "匹配NCTnumber的记录数量: 181\n",
      "[]\n",
      "/local/home/sumyao/YSforGIT/dataset/Filtered2Added/sectionspecific_nct_filtered_added_withnocluster.json\n",
      "匹配NCTnumber的记录数量: 96\n",
      "[]\n",
      "/local/home/sumyao/YSforGIT/dataset/Filtered2Added/picocorpus_nct_filtered_added_withnocluster.json\n",
      "匹配NCTnumber的记录数量: 160\n",
      "[]\n"
     ]
    }
   ],
   "source": [
    "import os\n",
    "import json\n",
    "import re\n",
    "\n",
    "def add_Retrivel_NCTrecord(json_file_path,output_finename):\n",
    "    with open(json_file_path, 'r') as json_file:\n",
    "        json_data = json.load(json_file)\n",
    "    nct_pattern = re.compile(r'\\bNCT\\W*\\d{8}\\b', re.IGNORECASE)\n",
    "\n",
    "\n",
    "    unmatched_numbers=[]\n",
    "    matched_records=[]\n",
    "    for record in json_data:\n",
    "        nct_number = None\n",
    "        #record=json_data[1]\n",
    "        if 'abstract' in record:\n",
    "            match = nct_pattern.search(record['abstract'])\n",
    "            if match:\n",
    "                nct_number = match.group()\n",
    "                #nct_numbers.append(nct_number)\n",
    "        elif 'content' in record:\n",
    "            match = nct_pattern.search(record['content'])\n",
    "            if match:\n",
    "                nct_number = match.group()\n",
    "                #nct_numbers.append(nct_number)\n",
    "        if nct_number:\n",
    "            try:\n",
    "                record['retrieved']=nct_data[nct_number]\n",
    "                matched_records.append(record)\n",
    "            except:\n",
    "                unmatched_numbers.append(nct_number)\n",
    "    with open(output_filename, 'w', encoding='utf-8') as f:\n",
    "        json.dump(matched_records, f, ensure_ascii=False, indent=4)\n",
    "    print(\"匹配NCTnumber的记录数量:\", len(matched_records))\n",
    "    print(unmatched_numbers)\n",
    "\n",
    "input_folder = '/local/home/sumyao/YSforGIT/dataset/Json2Filtered/'\n",
    "output_folder = '/local/home/sumyao/YSforGIT/dataset/Filtered2Added/'\n",
    "os.makedirs(output_folder, exist_ok=True)\n",
    "for filename in os.listdir(input_folder):\n",
    "    if filename.endswith('.json'):  # Process only JSON files\n",
    "        input_filepath = os.path.join(input_folder, filename)\n",
    "        output_filename = filename.replace('.json', '_added_withnocluster.json')\n",
    "        output_filepath = os.path.join(output_folder, output_filename)\n",
    "        print(output_filepath)\n",
    "        add_Retrivel_NCTrecord(input_filepath,output_filepath)"
   ]
  },
  {
   "cell_type": "code",
   "execution_count": 9,
   "metadata": {},
   "outputs": [
    {
     "data": {
      "text/plain": [
       "['NCT Number',\n",
       " 'Study Title',\n",
       " 'Study URL',\n",
       " 'Acronym',\n",
       " 'Study Status',\n",
       " 'Brief Summary',\n",
       " 'Study Results',\n",
       " 'Conditions',\n",
       " 'Interventions',\n",
       " 'Primary Outcome Measures',\n",
       " 'Secondary Outcome Measures',\n",
       " 'Sponsor',\n",
       " 'Collaborators',\n",
       " 'Sex',\n",
       " 'Age',\n",
       " 'Phases',\n",
       " 'Enrollment',\n",
       " 'Funder Type',\n",
       " 'Study Type',\n",
       " 'Study Design',\n",
       " 'Start Date',\n",
       " 'Primary Completion Date',\n",
       " 'Completion Date',\n",
       " 'First Posted',\n",
       " 'Results First Posted',\n",
       " 'Last Update Posted',\n",
       " 'Locations',\n",
       " 'Study Documents']"
      ]
     },
     "execution_count": 9,
     "metadata": {},
     "output_type": "execute_result"
    }
   ],
   "source": [
    "def check_clinicaltrials_colnames(csv_file_path):\n",
    "    with open(csv_file_path, 'r') as csv_file:\n",
    "        csv_reader = csv.DictReader(csv_file)\n",
    "        column_names = csv_reader.fieldnames\n",
    "    return column_names \n",
    "check_clinicaltrials_colnames( '/local/home/sumyao/ysmpubmed/DATASET/clinicaltrials.csv') "
   ]
  },
  {
   "cell_type": "code",
   "execution_count": null,
   "metadata": {},
   "outputs": [],
   "source": []
  }
 ],
 "metadata": {
  "kernelspec": {
   "display_name": "transformers",
   "language": "python",
   "name": "transformers"
  },
  "language_info": {
   "codemirror_mode": {
    "name": "ipython",
    "version": 3
   },
   "file_extension": ".py",
   "mimetype": "text/x-python",
   "name": "python",
   "nbconvert_exporter": "python",
   "pygments_lexer": "ipython3",
   "version": "3.9.19"
  }
 },
 "nbformat": 4,
 "nbformat_minor": 2
}
